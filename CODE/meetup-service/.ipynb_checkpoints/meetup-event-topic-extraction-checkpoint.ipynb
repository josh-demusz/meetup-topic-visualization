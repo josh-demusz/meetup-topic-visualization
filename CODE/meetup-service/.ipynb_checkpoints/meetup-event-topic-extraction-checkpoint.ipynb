{
 "cells": [
  {
   "cell_type": "code",
   "execution_count": 34,
   "metadata": {},
   "outputs": [],
   "source": [
    "import sqlite3\n",
    "import pandas as pd\n",
    "from gensim import corpora, models\n",
    "from nltk.tokenize import word_tokenize\n",
    "from nltk.corpus import stopwords\n",
    "from nltk import pos_tag\n",
    "\n",
    "conn = sqlite3.connect('data/meetup.db');\n",
    "\n",
    "query = \"select events.event_name, events.description from groups \" \\\n",
    "    \"inner join categories on groups.category_id = categories.category_id \" \\\n",
    "    \"inner join groups_topics on groups.group_id = groups_topics.group_id \" \\\n",
    "\t\"inner join topics on groups_topics.topic_id = topics.topic_id \" \\\n",
    "\t\"inner join events on groups.group_id = events.group_id \" \\\n",
    "\t\"where categories.category_name = 'Arts & Culture' \" \\\n",
    "\t\"group by events.event_name;\"\n",
    "\n",
    "events_rs = conn.execute(query);\n",
    "\n",
    "events = []\n",
    "\n",
    "for event in events_rs:\n",
    "    event_details = list(event)[0]+list(event)[1]\n",
    "    events.append(event_details)\n"
   ]
  },
  {
   "cell_type": "code",
   "execution_count": 39,
   "metadata": {},
   "outputs": [
    {
     "name": "stdout",
     "output_type": "stream",
     "text": [
      "[[], [], [], [], [], [], [], [], [], [], [], [], [], [], [], [], [], [], [], [], [], [], [], [], [], [], [], [], [], [], [], [], [], [], [], [], [], [], [], [], [], [], [], [], [], [], [], [], [], [], [], [], [], [], [], [], [], [], [], [], [], [], [], [], [], [], [], [], [], [], [], [], [], [], [], [], [], [], [], [], [], [], [], [], [], [], [], [], [], [], [], [], [], [], [], [], [], [], [], [], [], [], [], [], [], [], [], [], [], [], [], [], [], [], [], [], [], [], [], [], [], [], [], [], [], [], [], [], [], [], [], [], [], [], [], [], [], [], [], [], [], [], []]\n"
     ]
    }
   ],
   "source": [
    "#df = pd.DataFrame(events, columns = ['name'])\n",
    "#print(df)\n",
    "\n",
    "tokenized_events = []\n",
    "\n",
    "for event in events:\n",
    "#     print(event)\n",
    "    tokenized_event = word_tokenize(event)\n",
    "    \n",
    "    # Clean string:\n",
    "    # Remove punctuation\n",
    "    tokenized_event = [word for word in tokenized_event if word.isalpha()]\n",
    "    # Remove if word is < X letters\n",
    "    min_num_words = 5\n",
    "    tokenized_event = [word for word in tokenized_event if len(word) >= min_num_words]\n",
    "    # Remove stop words\n",
    "    tokenized_event = [word for word in tokenized_event if word not in stopwords.words('english')]\n",
    "    # Only keep nouns\n",
    "    tags = pos_tag(tokenized_event)\n",
    "    print(tags)\n",
    "    tokenized_event = [word for index, word in enumerate(tokenized_event) if (tags[index] == 'NN' or tags[index] == 'NNP' or tags[index] == 'NNS' or tags[index] == 'NNPS')]\n",
    "    \n",
    "    \n",
    "    tokenized_events.append(tokenized_event)\n",
    "#     print(tokenized_event)\n",
    "\n",
    "print(tokenized_events)"
   ]
  },
  {
   "cell_type": "code",
   "execution_count": 36,
   "metadata": {},
   "outputs": [],
   "source": [
    "# Setup topic extraction model\n",
    "dictionary_LDA = corpora.Dictionary(tokenized_events)\n",
    "dictionary_LDA.filter_extremes(no_below=3)\n",
    "corpus = [dictionary_LDA.doc2bow(tokenized_event) for tokenized_event in tokenized_events]\n",
    "\n",
    "num_topics = 20\n"
   ]
  },
  {
   "cell_type": "code",
   "execution_count": 37,
   "metadata": {},
   "outputs": [
    {
     "ename": "ValueError",
     "evalue": "cannot compute LDA over an empty collection (no terms)",
     "output_type": "error",
     "traceback": [
      "\u001b[0;31m---------------------------------------------------------------------------\u001b[0m",
      "\u001b[0;31mValueError\u001b[0m                                Traceback (most recent call last)",
      "\u001b[0;32m<timed exec>\u001b[0m in \u001b[0;36m<module>\u001b[0;34m\u001b[0m\n",
      "\u001b[0;32m/Library/Python/3.7/site-packages/gensim/models/ldamodel.py\u001b[0m in \u001b[0;36m__init__\u001b[0;34m(self, corpus, num_topics, id2word, distributed, chunksize, passes, update_every, alpha, eta, decay, offset, eval_every, iterations, gamma_threshold, minimum_probability, random_state, ns_conf, minimum_phi_value, per_word_topics, callbacks, dtype)\u001b[0m\n\u001b[1;32m    439\u001b[0m \u001b[0;34m\u001b[0m\u001b[0m\n\u001b[1;32m    440\u001b[0m         \u001b[0;32mif\u001b[0m \u001b[0mself\u001b[0m\u001b[0;34m.\u001b[0m\u001b[0mnum_terms\u001b[0m \u001b[0;34m==\u001b[0m \u001b[0;36m0\u001b[0m\u001b[0;34m:\u001b[0m\u001b[0;34m\u001b[0m\u001b[0;34m\u001b[0m\u001b[0m\n\u001b[0;32m--> 441\u001b[0;31m             \u001b[0;32mraise\u001b[0m \u001b[0mValueError\u001b[0m\u001b[0;34m(\u001b[0m\u001b[0;34m\"cannot compute LDA over an empty collection (no terms)\"\u001b[0m\u001b[0;34m)\u001b[0m\u001b[0;34m\u001b[0m\u001b[0;34m\u001b[0m\u001b[0m\n\u001b[0m\u001b[1;32m    442\u001b[0m \u001b[0;34m\u001b[0m\u001b[0m\n\u001b[1;32m    443\u001b[0m         \u001b[0mself\u001b[0m\u001b[0;34m.\u001b[0m\u001b[0mdistributed\u001b[0m \u001b[0;34m=\u001b[0m \u001b[0mbool\u001b[0m\u001b[0;34m(\u001b[0m\u001b[0mdistributed\u001b[0m\u001b[0;34m)\u001b[0m\u001b[0;34m\u001b[0m\u001b[0;34m\u001b[0m\u001b[0m\n",
      "\u001b[0;31mValueError\u001b[0m: cannot compute LDA over an empty collection (no terms)"
     ]
    }
   ],
   "source": [
    "# Run topic extraction model\n",
    "%time lda_model = models.LdaModel(corpus, num_topics=num_topics, \\\n",
    "                                  id2word=dictionary_LDA, \\\n",
    "                                  passes=10, alpha=[0.01]*num_topics, \\\n",
    "                                  eta=[0.01]*len(dictionary_LDA.keys()))"
   ]
  },
  {
   "cell_type": "code",
   "execution_count": 38,
   "metadata": {},
   "outputs": [
    {
     "name": "stdout",
     "output_type": "stream",
     "text": [
      "0: 0.077*\"Great\"\n",
      "\n",
      "1: 0.036*\"event\"\n",
      "\n",
      "2: 0.031*\"event\"\n",
      "\n",
      "3: 0.027*\"plays\"\n",
      "\n",
      "4: 0.078*\"painting\"\n",
      "\n",
      "5: 0.029*\"PARKING\"\n",
      "\n",
      "6: 0.055*\"drawing\"\n",
      "\n",
      "7: 0.020*\"never\"\n",
      "\n",
      "8: 0.032*\"Improv\"\n",
      "\n",
      "9: 0.028*\"paint\"\n",
      "\n",
      "10: 0.070*\"class\"\n",
      "\n",
      "11: 0.050*\"theater\"\n",
      "\n",
      "12: 0.037*\"improv\"\n",
      "\n",
      "13: 0.043*\"Street\"\n",
      "\n",
      "14: 0.035*\"sketch\"\n",
      "\n",
      "15: 0.048*\"https\"\n",
      "\n",
      "16: 0.047*\"artists\"\n",
      "\n",
      "17: 0.033*\"session\"\n",
      "\n",
      "18: 0.026*\"writing\"\n",
      "\n",
      "19: 0.045*\"TICKETS\"\n",
      "\n"
     ]
    }
   ],
   "source": [
    "# Filter out\n",
    "\n",
    "for i,topic in lda_model.show_topics(formatted=True, num_topics=num_topics, num_words=1):\n",
    "    print(str(i)+\": \"+ topic)\n",
    "    print()"
   ]
  },
  {
   "cell_type": "code",
   "execution_count": null,
   "metadata": {},
   "outputs": [],
   "source": []
  }
 ],
 "metadata": {
  "kernelspec": {
   "display_name": "Python 3",
   "language": "python",
   "name": "python3"
  },
  "language_info": {
   "codemirror_mode": {
    "name": "ipython",
    "version": 3
   },
   "file_extension": ".py",
   "mimetype": "text/x-python",
   "name": "python",
   "nbconvert_exporter": "python",
   "pygments_lexer": "ipython3",
   "version": "3.7.3"
  }
 },
 "nbformat": 4,
 "nbformat_minor": 2
}
